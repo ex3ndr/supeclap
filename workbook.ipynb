{
 "cells": [
  {
   "cell_type": "code",
   "execution_count": 1,
   "id": "e3eab945-3384-4477-b4a4-35ed96cf8076",
   "metadata": {},
   "outputs": [],
   "source": [
    "import torch\n",
    "from superclap.model_train import SuperCLAPTrainer\n",
    "from superclap.config import config\n",
    "from superclap.alignment import align_textgrid_with_source_text\n",
    "from superclap.audio import load_mono_audio, spectogram\n",
    "from training.datasets import load_item, collate, load_prepared_sampler, extract_training_data, load_prepared_item, load_prepared_sampler\n",
    "import matplotlib.pyplot as plt"
   ]
  },
  {
   "cell_type": "code",
   "execution_count": 2,
   "id": "33b1c0c2-f825-4580-b37e-df26f27dc3fe",
   "metadata": {},
   "outputs": [
    {
     "name": "stdout",
     "output_type": "stream",
     "text": [
      "89000\n"
     ]
    }
   ],
   "source": [
    "sampler = load_prepared_sampler()\n",
    "checkpoint = torch.load(f'./output/large-01.pt', map_location=\"cpu\")\n",
    "model = SuperCLAPTrainer()\n",
    "model.load_state_dict(checkpoint['model'])\n",
    "model.eval()\n",
    "print(checkpoint['step'])"
   ]
  },
  {
   "cell_type": "code",
   "execution_count": 3,
   "id": "45da493d-acf6-4ee7-9f69-538eb8c72f2e",
   "metadata": {},
   "outputs": [],
   "source": [
    "# waveform, spec, audio_segments, combined_alignments = load_item(\"./external_datasets/librilight-processed/100/2315/01_baum_sea_fairies_64kb_0002\")\n",
    "# waveform2, spec2, audio_segments2, combined_alignments2 = load_item(\"./external_datasets/librilight-processed/2032/1555/pygmalionsspectacles_weinbaum_cml_64kb_0046\")\n",
    "# audio, audio_lengths, alignments = collate([(audio_segments, combined_alignments), (audio_segments2, combined_alignments2)])\n",
    "# text_embeddings, audio_embeddings, loss = model(audio = audio, audio_lengths = audio_lengths, alignment = alignments)\n",
    "# similarity_matrix = audio_embeddings @ audio_embeddings.T"
   ]
  },
  {
   "cell_type": "code",
   "execution_count": 4,
   "id": "7e1ca060-25e1-418e-87df-4fb61e465f79",
   "metadata": {},
   "outputs": [],
   "source": [
    "def show_similarity(mt):\n",
    "    # Create a figure and axes\n",
    "    fig, ax = plt.subplots(figsize=(32, 32))\n",
    "    \n",
    "    # Display the similarity matrix as an image\n",
    "    im = ax.imshow(mt.detach(), cmap='viridis', interpolation='nearest')\n",
    "    \n",
    "    # Add colorbar\n",
    "    cbar = ax.figure.colorbar(im, ax=ax)\n",
    "    cbar.ax.set_ylabel('Cosine Similarity', rotation=-90, va=\"bottom\")\n",
    "    ax.set_title('Similarity Matrix')\n",
    "    \n",
    "    \n",
    "    # Adjust the layout and display the plot\n",
    "    fig.tight_layout()\n",
    "    plt.show()"
   ]
  },
  {
   "cell_type": "code",
   "execution_count": 5,
   "id": "9bda6766-3413-4f13-ab62-8f56923904cd",
   "metadata": {},
   "outputs": [],
   "source": [
    "# source_index = 116\n",
    "# count = 10\n",
    "# print(\"From: \", ph[source_index])\n",
    "# top_k = torch.topk(similarity_matrix[source_index], count + 1).indices\n",
    "# _, ax = plt.subplots(len(top_k), 1, figsize=(1, count))\n",
    "# ax[0].imshow(audio_segments[source_index].T, vmin=-10, vmax=0, origin=\"lower\", aspect=\"auto\")\n",
    "# for i in range(1, len(top_k)):\n",
    "#     print(ph[top_k[i]])\n",
    "#     print(\"Index: \", str(top_k[i].item()), \"similarity: \" + str(similarity_matrix[source_index][top_k[i]].item()))\n",
    "#     ax[i].imshow(audio_segments[top_k[i]].T, vmin=-10, vmax=0, origin=\"lower\", aspect=\"auto\")\n",
    "#     ax[i].set_title(\"Index: \" + str(top_k[i].item()))\n"
   ]
  },
  {
   "cell_type": "code",
   "execution_count": 6,
   "id": "a77d921f-2c8f-4ae6-9579-915fafdcc495",
   "metadata": {},
   "outputs": [],
   "source": [
    "# s = load_prepared_item(\"./datasets/prepared/librilight-processed/14/342/canterburytales_09_chaucer_64kb_0003.pt\")\n",
    "# # print(s[1])\n",
    "# extract_training_data(s, phoneme_id = 416)"
   ]
  },
  {
   "cell_type": "code",
   "execution_count": 7,
   "id": "3f4ef0a4-4db2-40b5-83bd-ffeec47663d1",
   "metadata": {},
   "outputs": [],
   "source": [
    "phoneme = None\n",
    "samples_count = 512\n",
    "padded_specs, out_specs_length, padded_tokens, out_tokens_length, padded_phonemes, out_phonemes_length, out_phonemes_index, out_tokens_segment, ids, ids_names = sampler(samples_count, phoneme_id = phoneme, output_ids = True, output_phoneme_names = True)\n",
    "embeddings = model.audio_embeddings(padded_specs, out_specs_length)\n",
    "embeddings_sim = embeddings @ embeddings.T\n",
    "embeddings_sim[torch.eye(embeddings_sim.shape[0], dtype=torch.bool)] = float('-inf')\n",
    "# show_similarity(embeddings_sim)"
   ]
  },
  {
   "cell_type": "code",
   "execution_count": null,
   "id": "8b3d8841-3436-45d9-ba89-a00895ebd3d2",
   "metadata": {},
   "outputs": [
    {
     "name": "stdout",
     "output_type": "stream",
     "text": [
      "tensor(80) tensor(138)\n"
     ]
    }
   ],
   "source": [
    "# Find the indices of the maximum value in the similarity matrix\n",
    "max_indices = torch.argmax(embeddings_sim)\n",
    "\n",
    "# Retrieve the row and column indices of the maximum value\n",
    "row_index = max_indices // embeddings_sim.shape[0]\n",
    "col_index = max_indices % embeddings_sim.shape[0]\n",
    "\n",
    "print(row_index, col_index)"
   ]
  },
  {
   "cell_type": "code",
   "execution_count": null,
   "id": "055918db-bef9-4cc3-8d76-86d93c35041d",
   "metadata": {},
   "outputs": [],
   "source": [
    "source_index = row_index\n",
    "count = 20\n",
    "top_k = torch.topk(embeddings_sim[source_index], count + 1).indices\n",
    "_, ax = plt.subplots(len(top_k) + 1, 1, figsize=(5, count))\n",
    "ax[0].imshow(padded_specs[source_index, :out_specs_length[source_index].item(), :].T, vmin=-10, vmax=0, origin=\"lower\", aspect=\"auto\")\n",
    "ax[0].set_title(\"Source\")\n",
    "for i in range(len(top_k)):\n",
    "    print(\"Index: \", str(top_k[i].item()), \"similarity: \" + str(embeddings_sim[source_index][top_k[i]].item()), ids_names[top_k[i]], ids[top_k[i]])\n",
    "    ax[i + 1].imshow(padded_specs[top_k[i], :out_specs_length[top_k[i]].item(), :].T, vmin=-10, vmax=0, origin=\"lower\", aspect=\"auto\")\n",
    "    ax[i + 1].set_title(\"Index: \" + str(top_k[i].item()))"
   ]
  },
  {
   "cell_type": "code",
   "execution_count": null,
   "id": "7c7f54e7-039d-496a-b102-aa43e5eeec1b",
   "metadata": {},
   "outputs": [],
   "source": []
  }
 ],
 "metadata": {
  "kernelspec": {
   "display_name": "Python 3 (ipykernel)",
   "language": "python",
   "name": "python3"
  },
  "language_info": {
   "codemirror_mode": {
    "name": "ipython",
    "version": 3
   },
   "file_extension": ".py",
   "mimetype": "text/x-python",
   "name": "python",
   "nbconvert_exporter": "python",
   "pygments_lexer": "ipython3",
   "version": "3.10.13"
  }
 },
 "nbformat": 4,
 "nbformat_minor": 5
}
