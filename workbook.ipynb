{
 "cells": [
  {
   "cell_type": "code",
   "execution_count": 1,
   "id": "e3eab945-3384-4477-b4a4-35ed96cf8076",
   "metadata": {},
   "outputs": [],
   "source": [
    "from superclap.config import config\n",
    "from superclap.alignment import align_textgrid_with_source_text\n",
    "from superclap.audio import load_mono_audio, spectogram\n",
    "import textgrid\n",
    "\n",
    "#\n",
    "# Load Alignment\n",
    "#\n",
    "\n",
    "def do_spectogram(src):\n",
    "    return spectogram(src, config.audio.n_fft, config.audio.n_mels, config.audio.hop_size, config.audio.win_size, config.audio.mel_norm, config.audio.mel_scale, config.audio.sample_rate)\n",
    "id = \"./external_datasets/librilight-processed/100/2315/01_baum_sea_fairies_64kb_0001\"\n",
    "tg = textgrid.TextGrid.fromFile(id + \".TextGrid\")\n",
    "with open(id + \".txt\", 'r') as file:\n",
    "    text = file.read()\n",
    "waveform = load_mono_audio(id + \".flac\", config.audio.sample_rate)\n",
    "spec = do_spectogram(waveform)\n",
    "word_alignments, phoneme_alignments, combined_alignments = align_textgrid_with_source_text(config, tg, text, spec.shape[1])"
   ]
  },
  {
   "cell_type": "code",
   "execution_count": 2,
   "id": "33b1c0c2-f825-4580-b37e-df26f27dc3fe",
   "metadata": {},
   "outputs": [],
   "source": [
    "from superclap.model_train import SuperCLAPTrainer\n",
    "\n",
    "model = SuperCLAPTrainer()"
   ]
  },
  {
   "cell_type": "code",
   "execution_count": 3,
   "id": "45da493d-acf6-4ee7-9f69-538eb8c72f2e",
   "metadata": {},
   "outputs": [
    {
     "data": {
      "text/plain": [
       "torch.Size([61, 256])"
      ]
     },
     "execution_count": 3,
     "metadata": {},
     "output_type": "execute_result"
    }
   ],
   "source": [
    "# for i in range(len(combined_alignments)):\n",
    "#     if combined_alignments[i][0] is not None:\n",
    "#         print(combined_alignments[i][0])\n",
    "model(audio = spec.T.unsqueeze(0), alignment = [combined_alignments]).shape"
   ]
  },
  {
   "cell_type": "code",
   "execution_count": null,
   "id": "a037cff1-5f18-4e9a-a09d-43cf5390a357",
   "metadata": {},
   "outputs": [],
   "source": []
  }
 ],
 "metadata": {
  "kernelspec": {
   "display_name": "Python 3 (ipykernel)",
   "language": "python",
   "name": "python3"
  },
  "language_info": {
   "codemirror_mode": {
    "name": "ipython",
    "version": 3
   },
   "file_extension": ".py",
   "mimetype": "text/x-python",
   "name": "python",
   "nbconvert_exporter": "python",
   "pygments_lexer": "ipython3",
   "version": "3.10.13"
  }
 },
 "nbformat": 4,
 "nbformat_minor": 5
}
